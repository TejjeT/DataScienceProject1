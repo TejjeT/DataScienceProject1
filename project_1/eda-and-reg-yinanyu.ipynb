{
 "cells": [
  {
   "cell_type": "code",
   "execution_count": 1,
   "metadata": {
    "collapsed": true
   },
   "outputs": [],
   "source": [
    "import os\n",
    "import json"
   ]
  },
  {
   "cell_type": "code",
   "execution_count": 2,
   "metadata": {
    "collapsed": true
   },
   "outputs": [],
   "source": [
    "#define data path\n",
    "DATA_DIR = os.path.join('data', 'boxofficemojo')"
   ]
  },
  {
   "cell_type": "code",
   "execution_count": 3,
   "metadata": {
    "collapsed": true
   },
   "outputs": [],
   "source": [
    "#create data file name and path\n",
    "target_file_name = 'mojo_bladerunner.json'\n",
    "target_file_path = os.path.join(DATA_DIR, target_file_name)"
   ]
  },
  {
   "cell_type": "code",
   "execution_count": 4,
   "metadata": {
    "collapsed": true
   },
   "outputs": [],
   "source": [
    "#create python dictionary\n",
    "with open(target_file_path, 'r') as target_file:\n",
    "    movie = json.load(target_file)"
   ]
  },
  {
   "cell_type": "code",
   "execution_count": 5,
   "metadata": {
    "collapsed": false
   },
   "outputs": [
    {
     "name": "stdout",
     "output_type": "stream",
     "text": [
      "{u'alt_title': u'Blade Runner (1982)',\n",
      " u'director': u'Ridley Scott',\n",
      " u'domestic_gross': 32868943,\n",
      " u'mojo_slug': u'bladerunner',\n",
      " u'opening_per_theater': 4749,\n",
      " u'opening_weekend_take': 6150002,\n",
      " u'production_budget': None,\n",
      " u'release_date_limited': None,\n",
      " u'release_date_wide': u'1982-06-25',\n",
      " u'title': u'Blade Runner',\n",
      " u'widest_release': 1325,\n",
      " u'worldwide_gross': 32868943,\n",
      " u'year': 1982}\n"
     ]
    }
   ],
   "source": [
    "#print movie\n",
    "from pprint import pprint\n",
    "pprint(movie)"
   ]
  },
  {
   "cell_type": "code",
   "execution_count": 7,
   "metadata": {
    "collapsed": false
   },
   "outputs": [],
   "source": [
    "#get all the names in the DATA_DIR path\n",
    "list_names=os.listdir(DATA_DIR)\n"
   ]
  },
  {
   "cell_type": "code",
   "execution_count": 10,
   "metadata": {
    "collapsed": false
   },
   "outputs": [],
   "source": [
    "list=[]\n",
    "for movie_item in list_names:\n",
    "    target_file_path = os.path.join(DATA_DIR, movie_item)\n",
    "    with open(target_file_path, 'r') as target_file:\n",
    "         movie = json.load(target_file)\n",
    "    list.append(movie)"
   ]
  },
  {
   "cell_type": "code",
   "execution_count": 11,
   "metadata": {
    "collapsed": false
   },
   "outputs": [
    {
     "data": {
      "text/plain": [
       "3728"
      ]
     },
     "execution_count": 11,
     "metadata": {},
     "output_type": "execute_result"
    }
   ],
   "source": [
    "len(list)"
   ]
  }
 ],
 "metadata": {
  "kernelspec": {
   "display_name": "Python 2",
   "language": "python",
   "name": "python2"
  },
  "language_info": {
   "codemirror_mode": {
    "name": "ipython",
    "version": 2
   },
   "file_extension": ".py",
   "mimetype": "text/x-python",
   "name": "python",
   "nbconvert_exporter": "python",
   "pygments_lexer": "ipython2",
   "version": "2.7.11"
  }
 },
 "nbformat": 4,
 "nbformat_minor": 0
}
