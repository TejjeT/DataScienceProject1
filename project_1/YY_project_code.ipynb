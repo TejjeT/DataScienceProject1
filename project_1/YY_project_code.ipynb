{
 "cells": [
  {
   "cell_type": "code",
   "execution_count": 203,
   "metadata": {
    "collapsed": false
   },
   "outputs": [],
   "source": [
    "# imports\n",
    "import os\n",
    "import json\n",
    "import pprint\n",
    "import pandas as pd\n",
    "\n",
    "# constants\n",
    "CURRENT_DIR = os.getcwd()\n",
    "DATA_DIR = os.path.abspath(os.path.join(CURRENT_DIR, 'data'))\n",
    "MOJO_DIR = os.path.join(DATA_DIR, 'boxofficemojo')\n",
    "metacritic_DIR = os.path.join(DATA_DIR, 'metacritic')"
   ]
  },
  {
   "cell_type": "markdown",
   "metadata": {},
   "source": [
    "##LOADING DATA"
   ]
  },
  {
   "cell_type": "code",
   "execution_count": 182,
   "metadata": {
    "collapsed": false
   },
   "outputs": [],
   "source": [
    "def load_mojo_data():\n",
    "    file_contents = os.listdir(MOJO_DIR)\n",
    "\n",
    "    movie_list = []\n",
    "\n",
    "    for filename in file_contents:\n",
    "        filepath = os.path.join(MOJO_DIR, filename)\n",
    "\n",
    "        with open(filepath, 'r') as movie_file:\n",
    "            movie_data = json.load(movie_file)\n",
    "\n",
    "        movie_list.append(movie_data)\n",
    "\n",
    "    print \"Parsed %i movies from %i files\" % (len(movie_list),\n",
    "                                              len(file_contents))\n",
    "    return movie_list\n",
    "\n",
    "def load_metacritic_data():\n",
    "    file_contents = os.listdir(metacritic_DIR)\n",
    "\n",
    "    movie_list = []\n",
    "\n",
    "    for filename in file_contents:\n",
    "        filepath = os.path.join(metacritic_DIR, filename)\n",
    "        \n",
    "        with open(filepath, 'r') as movie_file:\n",
    "            movie_data = json.load(movie_file)\n",
    "        if type(movie_data)==dict:\n",
    "            movie_list.append(movie_data)\n",
    "\n",
    "    print \"Parsed %i movies from %i files\" % (len(movie_list),\n",
    "                                              len(file_contents))\n",
    "    return movie_list"
   ]
  },
  {
   "cell_type": "code",
   "execution_count": 183,
   "metadata": {
    "collapsed": false
   },
   "outputs": [
    {
     "name": "stdout",
     "output_type": "stream",
     "text": [
      "Parsed 3728 movies from 3728 files\n",
      "Parsed 4765 movies from 4767 files\n"
     ]
    }
   ],
   "source": [
    "import loaddata\n",
    "import pandas as pd\n",
    "movie_dicts_mojo = loaddata.load_mojo_data()\n",
    "movie_df_mojo = pd.DataFrame(movie_dicts_mojo)\n",
    "movie_dicts_meta = load_metacritic_data()\n",
    "movie_df_meta = pd.DataFrame(movie_dicts_meta)"
   ]
  },
  {
   "cell_type": "code",
   "execution_count": 185,
   "metadata": {
    "collapsed": false
   },
   "outputs": [],
   "source": [
    "#clean title\n",
    "\n",
    "#metacric_df2['title']=metacric_df2.title_Upper.str.strip() \n",
    "#movie_df_meta.drop('unable to retrieve', axis=1, inplace=True) \n",
    "#metacric_df1=metacric_df.drop(metacric_df.index[[4764]]) \n",
    "movie_df_meta['title_Upper']=movie_df_meta.title.str.upper() \n",
    "movie_df_meta['title_new']=movie_df_meta.title_Upper.str.replace(r'\\W+','',case=False)\n",
    "movie_df_mojo['title_Upper']=movie_df_mojo.title.str.upper() \n",
    "movie_df_mojo['title_new']=movie_df_mojo.title_Upper.str.replace(r'\\W+','',case=False)"
   ]
  },
  {
   "cell_type": "code",
   "execution_count": 187,
   "metadata": {
    "collapsed": true
   },
   "outputs": [],
   "source": [
    "#clean director\n",
    "movie_df_meta['director_upper']=movie_df_meta.director.str.upper() \n",
    "movie_df_meta['director_new']=movie_df_meta.director_upper.str.replace(r'\\W+','',case=False)\n",
    "movie_df_mojo['director_upper']=movie_df_mojo.director.str.upper() \n",
    "movie_df_mojo['director_new']=movie_df_mojo.director_upper.str.replace(r'\\W+','',case=False)"
   ]
  },
  {
   "cell_type": "code",
   "execution_count": 188,
   "metadata": {
    "collapsed": false
   },
   "outputs": [],
   "source": [
    "\n",
    "#Clean year\n",
    "movie_df_mojo['year']=pd.to_numeric(movie_df_mojo['year'])\n",
    "movie_df_meta['year']=pd.to_numeric(movie_df_meta['year'])"
   ]
  },
  {
   "cell_type": "code",
   "execution_count": 209,
   "metadata": {
    "collapsed": false
   },
   "outputs": [],
   "source": [
    "\n",
    "# Join based on title and Year\n",
    "movie_merge= pd.merge(movie_df_mojo,movie_df_meta, on=['title_new', 'year'], how=\"inner\")"
   ]
  },
  {
   "cell_type": "code",
   "execution_count": 177,
   "metadata": {
    "collapsed": false,
    "scrolled": true
   },
   "outputs": [
    {
     "data": {
      "text/html": [
       "<div>\n",
       "<table border=\"1\" class=\"dataframe\">\n",
       "  <thead>\n",
       "    <tr style=\"text-align: right;\">\n",
       "      <th></th>\n",
       "      <th>director_x</th>\n",
       "      <th>director_new_x</th>\n",
       "      <th>director_y</th>\n",
       "    </tr>\n",
       "  </thead>\n",
       "  <tbody>\n",
       "  </tbody>\n",
       "</table>\n",
       "</div>"
      ],
      "text/plain": [
       "Empty DataFrame\n",
       "Columns: [director_x, director_new_x, director_y]\n",
       "Index: []"
      ]
     },
     "execution_count": 177,
     "metadata": {},
     "output_type": "execute_result"
    }
   ],
   "source": [
    "#check for duplicates\n",
    "#movie_merge[movie_merge.duplicated(['title_new'])][['director_x','director_new_x','director_y']]\n",
    "# clean_movie_df_dir = movie_df_dir[related_columns].dropna()"
   ]
  },
  {
   "cell_type": "code",
   "execution_count": 202,
   "metadata": {
    "collapsed": true
   },
   "outputs": [],
   "source": [
    "#load it out to excel\n",
    "data_description=movie_merge.describe()\n",
    "data_description.to_csv('./data_description.csv')"
   ]
  },
  {
   "cell_type": "code",
   "execution_count": 235,
   "metadata": {
    "collapsed": false
   },
   "outputs": [],
   "source": [
    "import numpy as np\n",
    "#movie_merge.production_budget[movie_merge.production_budget.isnull()] = movie_merge.production_budget.mean()\n",
    "movie_merge_fill=movie_merge.fillna(movie_merge.mean())"
   ]
  },
  {
   "cell_type": "code",
   "execution_count": 237,
   "metadata": {
    "collapsed": false
   },
   "outputs": [
    {
     "data": {
      "text/html": [
       "<div>\n",
       "<table border=\"1\" class=\"dataframe\">\n",
       "  <thead>\n",
       "    <tr style=\"text-align: right;\">\n",
       "      <th></th>\n",
       "      <th>domestic_gross</th>\n",
       "      <th>opening_per_theater</th>\n",
       "      <th>opening_weekend_take</th>\n",
       "      <th>production_budget</th>\n",
       "      <th>widest_release</th>\n",
       "      <th>worldwide_gross</th>\n",
       "      <th>year</th>\n",
       "      <th>metascore</th>\n",
       "      <th>num_user_ratings</th>\n",
       "      <th>runtime_minutes</th>\n",
       "    </tr>\n",
       "  </thead>\n",
       "  <tbody>\n",
       "    <tr>\n",
       "      <th>count</th>\n",
       "      <td>3.305000e+03</td>\n",
       "      <td>3242.000000</td>\n",
       "      <td>3.242000e+03</td>\n",
       "      <td>3.348000e+03</td>\n",
       "      <td>3267.000000</td>\n",
       "      <td>2.627000e+03</td>\n",
       "      <td>3347.000000</td>\n",
       "      <td>3271.000000</td>\n",
       "      <td>3207.000000</td>\n",
       "      <td>3295.000000</td>\n",
       "    </tr>\n",
       "    <tr>\n",
       "      <th>mean</th>\n",
       "      <td>3.746890e+07</td>\n",
       "      <td>7876.739050</td>\n",
       "      <td>9.302936e+06</td>\n",
       "      <td>4.671307e+07</td>\n",
       "      <td>1408.373431</td>\n",
       "      <td>9.405645e+07</td>\n",
       "      <td>2005.665073</td>\n",
       "      <td>57.651483</td>\n",
       "      <td>122.256314</td>\n",
       "      <td>107.376935</td>\n",
       "    </tr>\n",
       "    <tr>\n",
       "      <th>std</th>\n",
       "      <td>5.798597e+07</td>\n",
       "      <td>8402.588393</td>\n",
       "      <td>1.437162e+07</td>\n",
       "      <td>2.752469e+07</td>\n",
       "      <td>1303.585481</td>\n",
       "      <td>1.518945e+08</td>\n",
       "      <td>7.717237</td>\n",
       "      <td>18.073014</td>\n",
       "      <td>219.848935</td>\n",
       "      <td>19.315297</td>\n",
       "    </tr>\n",
       "    <tr>\n",
       "      <th>min</th>\n",
       "      <td>7.200000e+01</td>\n",
       "      <td>72.000000</td>\n",
       "      <td>7.200000e+01</td>\n",
       "      <td>2.200000e+02</td>\n",
       "      <td>1.000000</td>\n",
       "      <td>7.200000e+01</td>\n",
       "      <td>1967.000000</td>\n",
       "      <td>1.000000</td>\n",
       "      <td>4.000000</td>\n",
       "      <td>60.000000</td>\n",
       "    </tr>\n",
       "    <tr>\n",
       "      <th>25%</th>\n",
       "      <td>6.858390e+05</td>\n",
       "      <td>3300.000000</td>\n",
       "      <td>5.134250e+04</td>\n",
       "      <td>4.000000e+07</td>\n",
       "      <td>58.000000</td>\n",
       "      <td>6.247501e+06</td>\n",
       "      <td>2002.000000</td>\n",
       "      <td>45.000000</td>\n",
       "      <td>23.000000</td>\n",
       "      <td>94.000000</td>\n",
       "    </tr>\n",
       "    <tr>\n",
       "      <th>50%</th>\n",
       "      <td>1.440156e+07</td>\n",
       "      <td>5624.500000</td>\n",
       "      <td>3.761571e+06</td>\n",
       "      <td>4.671307e+07</td>\n",
       "      <td>1212.000000</td>\n",
       "      <td>3.857436e+07</td>\n",
       "      <td>2007.000000</td>\n",
       "      <td>58.000000</td>\n",
       "      <td>57.000000</td>\n",
       "      <td>104.000000</td>\n",
       "    </tr>\n",
       "    <tr>\n",
       "      <th>75%</th>\n",
       "      <td>5.185488e+07</td>\n",
       "      <td>9590.000000</td>\n",
       "      <td>1.326648e+07</td>\n",
       "      <td>4.671307e+07</td>\n",
       "      <td>2635.500000</td>\n",
       "      <td>1.210275e+08</td>\n",
       "      <td>2012.000000</td>\n",
       "      <td>71.000000</td>\n",
       "      <td>130.000000</td>\n",
       "      <td>117.000000</td>\n",
       "    </tr>\n",
       "    <tr>\n",
       "      <th>max</th>\n",
       "      <td>7.605076e+08</td>\n",
       "      <td>204230.000000</td>\n",
       "      <td>1.741446e+08</td>\n",
       "      <td>2.150000e+08</td>\n",
       "      <td>4468.000000</td>\n",
       "      <td>2.787965e+09</td>\n",
       "      <td>2015.000000</td>\n",
       "      <td>100.000000</td>\n",
       "      <td>4002.000000</td>\n",
       "      <td>325.000000</td>\n",
       "    </tr>\n",
       "  </tbody>\n",
       "</table>\n",
       "</div>"
      ],
      "text/plain": [
       "       domestic_gross  opening_per_theater  opening_weekend_take  \\\n",
       "count    3.305000e+03          3242.000000          3.242000e+03   \n",
       "mean     3.746890e+07          7876.739050          9.302936e+06   \n",
       "std      5.798597e+07          8402.588393          1.437162e+07   \n",
       "min      7.200000e+01            72.000000          7.200000e+01   \n",
       "25%      6.858390e+05          3300.000000          5.134250e+04   \n",
       "50%      1.440156e+07          5624.500000          3.761571e+06   \n",
       "75%      5.185488e+07          9590.000000          1.326648e+07   \n",
       "max      7.605076e+08        204230.000000          1.741446e+08   \n",
       "\n",
       "       production_budget  widest_release  worldwide_gross         year  \\\n",
       "count       3.348000e+03     3267.000000     2.627000e+03  3347.000000   \n",
       "mean        4.671307e+07     1408.373431     9.405645e+07  2005.665073   \n",
       "std         2.752469e+07     1303.585481     1.518945e+08     7.717237   \n",
       "min         2.200000e+02        1.000000     7.200000e+01  1967.000000   \n",
       "25%         4.000000e+07       58.000000     6.247501e+06  2002.000000   \n",
       "50%         4.671307e+07     1212.000000     3.857436e+07  2007.000000   \n",
       "75%         4.671307e+07     2635.500000     1.210275e+08  2012.000000   \n",
       "max         2.150000e+08     4468.000000     2.787965e+09  2015.000000   \n",
       "\n",
       "         metascore  num_user_ratings  runtime_minutes  \n",
       "count  3271.000000       3207.000000      3295.000000  \n",
       "mean     57.651483        122.256314       107.376935  \n",
       "std      18.073014        219.848935        19.315297  \n",
       "min       1.000000          4.000000        60.000000  \n",
       "25%      45.000000         23.000000        94.000000  \n",
       "50%      58.000000         57.000000       104.000000  \n",
       "75%      71.000000        130.000000       117.000000  \n",
       "max     100.000000       4002.000000       325.000000  "
      ]
     },
     "execution_count": 237,
     "metadata": {},
     "output_type": "execute_result"
    }
   ],
   "source": [
    "movie_merge.describe()"
   ]
  },
  {
   "cell_type": "code",
   "execution_count": null,
   "metadata": {
    "collapsed": true
   },
   "outputs": [],
   "source": []
  },
  {
   "cell_type": "code",
   "execution_count": 229,
   "metadata": {
    "collapsed": false
   },
   "outputs": [
    {
     "data": {
      "text/html": [
       "<div>\n",
       "<table border=\"1\" class=\"dataframe\">\n",
       "  <thead>\n",
       "    <tr style=\"text-align: right;\">\n",
       "      <th></th>\n",
       "      <th>domestic_gross</th>\n",
       "      <th>opening_per_theater</th>\n",
       "      <th>opening_weekend_take</th>\n",
       "      <th>production_budget</th>\n",
       "      <th>widest_release</th>\n",
       "      <th>worldwide_gross</th>\n",
       "      <th>year</th>\n",
       "      <th>metascore</th>\n",
       "      <th>num_user_ratings</th>\n",
       "      <th>runtime_minutes</th>\n",
       "    </tr>\n",
       "  </thead>\n",
       "  <tbody>\n",
       "    <tr>\n",
       "      <th>count</th>\n",
       "      <td>3.305000e+03</td>\n",
       "      <td>3242.000000</td>\n",
       "      <td>3.242000e+03</td>\n",
       "      <td>1.507000e+03</td>\n",
       "      <td>3267.000000</td>\n",
       "      <td>2.627000e+03</td>\n",
       "      <td>3347.000000</td>\n",
       "      <td>3271.000000</td>\n",
       "      <td>3207.000000</td>\n",
       "      <td>3295.000000</td>\n",
       "    </tr>\n",
       "    <tr>\n",
       "      <th>mean</th>\n",
       "      <td>3.746890e+07</td>\n",
       "      <td>7876.739050</td>\n",
       "      <td>9.302936e+06</td>\n",
       "      <td>4.671307e+07</td>\n",
       "      <td>1408.373431</td>\n",
       "      <td>9.405645e+07</td>\n",
       "      <td>2005.665073</td>\n",
       "      <td>57.651483</td>\n",
       "      <td>122.256314</td>\n",
       "      <td>107.376935</td>\n",
       "    </tr>\n",
       "    <tr>\n",
       "      <th>std</th>\n",
       "      <td>5.798597e+07</td>\n",
       "      <td>8402.588393</td>\n",
       "      <td>1.437162e+07</td>\n",
       "      <td>4.103343e+07</td>\n",
       "      <td>1303.585481</td>\n",
       "      <td>1.518945e+08</td>\n",
       "      <td>7.717237</td>\n",
       "      <td>18.073014</td>\n",
       "      <td>219.848935</td>\n",
       "      <td>19.315297</td>\n",
       "    </tr>\n",
       "    <tr>\n",
       "      <th>min</th>\n",
       "      <td>7.200000e+01</td>\n",
       "      <td>72.000000</td>\n",
       "      <td>7.200000e+01</td>\n",
       "      <td>2.200000e+02</td>\n",
       "      <td>1.000000</td>\n",
       "      <td>7.200000e+01</td>\n",
       "      <td>1967.000000</td>\n",
       "      <td>1.000000</td>\n",
       "      <td>4.000000</td>\n",
       "      <td>60.000000</td>\n",
       "    </tr>\n",
       "    <tr>\n",
       "      <th>25%</th>\n",
       "      <td>6.858390e+05</td>\n",
       "      <td>3300.000000</td>\n",
       "      <td>5.134250e+04</td>\n",
       "      <td>1.700000e+07</td>\n",
       "      <td>58.000000</td>\n",
       "      <td>6.247501e+06</td>\n",
       "      <td>2002.000000</td>\n",
       "      <td>45.000000</td>\n",
       "      <td>23.000000</td>\n",
       "      <td>94.000000</td>\n",
       "    </tr>\n",
       "    <tr>\n",
       "      <th>50%</th>\n",
       "      <td>1.440156e+07</td>\n",
       "      <td>5624.500000</td>\n",
       "      <td>3.761571e+06</td>\n",
       "      <td>3.500000e+07</td>\n",
       "      <td>1212.000000</td>\n",
       "      <td>3.857436e+07</td>\n",
       "      <td>2007.000000</td>\n",
       "      <td>58.000000</td>\n",
       "      <td>57.000000</td>\n",
       "      <td>104.000000</td>\n",
       "    </tr>\n",
       "    <tr>\n",
       "      <th>75%</th>\n",
       "      <td>5.185488e+07</td>\n",
       "      <td>9590.000000</td>\n",
       "      <td>1.326648e+07</td>\n",
       "      <td>6.500000e+07</td>\n",
       "      <td>2635.500000</td>\n",
       "      <td>1.210275e+08</td>\n",
       "      <td>2012.000000</td>\n",
       "      <td>71.000000</td>\n",
       "      <td>130.000000</td>\n",
       "      <td>117.000000</td>\n",
       "    </tr>\n",
       "    <tr>\n",
       "      <th>max</th>\n",
       "      <td>7.605076e+08</td>\n",
       "      <td>204230.000000</td>\n",
       "      <td>1.741446e+08</td>\n",
       "      <td>2.150000e+08</td>\n",
       "      <td>4468.000000</td>\n",
       "      <td>2.787965e+09</td>\n",
       "      <td>2015.000000</td>\n",
       "      <td>100.000000</td>\n",
       "      <td>4002.000000</td>\n",
       "      <td>325.000000</td>\n",
       "    </tr>\n",
       "  </tbody>\n",
       "</table>\n",
       "</div>"
      ],
      "text/plain": [
       "       domestic_gross  opening_per_theater  opening_weekend_take  \\\n",
       "count    3.305000e+03          3242.000000          3.242000e+03   \n",
       "mean     3.746890e+07          7876.739050          9.302936e+06   \n",
       "std      5.798597e+07          8402.588393          1.437162e+07   \n",
       "min      7.200000e+01            72.000000          7.200000e+01   \n",
       "25%      6.858390e+05          3300.000000          5.134250e+04   \n",
       "50%      1.440156e+07          5624.500000          3.761571e+06   \n",
       "75%      5.185488e+07          9590.000000          1.326648e+07   \n",
       "max      7.605076e+08        204230.000000          1.741446e+08   \n",
       "\n",
       "       production_budget  widest_release  worldwide_gross         year  \\\n",
       "count       1.507000e+03     3267.000000     2.627000e+03  3347.000000   \n",
       "mean        4.671307e+07     1408.373431     9.405645e+07  2005.665073   \n",
       "std         4.103343e+07     1303.585481     1.518945e+08     7.717237   \n",
       "min         2.200000e+02        1.000000     7.200000e+01  1967.000000   \n",
       "25%         1.700000e+07       58.000000     6.247501e+06  2002.000000   \n",
       "50%         3.500000e+07     1212.000000     3.857436e+07  2007.000000   \n",
       "75%         6.500000e+07     2635.500000     1.210275e+08  2012.000000   \n",
       "max         2.150000e+08     4468.000000     2.787965e+09  2015.000000   \n",
       "\n",
       "         metascore  num_user_ratings  runtime_minutes  \n",
       "count  3271.000000       3207.000000      3295.000000  \n",
       "mean     57.651483        122.256314       107.376935  \n",
       "std      18.073014        219.848935        19.315297  \n",
       "min       1.000000          4.000000        60.000000  \n",
       "25%      45.000000         23.000000        94.000000  \n",
       "50%      58.000000         57.000000       104.000000  \n",
       "75%      71.000000        130.000000       117.000000  \n",
       "max     100.000000       4002.000000       325.000000  "
      ]
     },
     "execution_count": 229,
     "metadata": {},
     "output_type": "execute_result"
    }
   ],
   "source": [
    "movie_merge.describe()"
   ]
  },
  {
   "cell_type": "code",
   "execution_count": null,
   "metadata": {
    "collapsed": true
   },
   "outputs": [],
   "source": []
  },
  {
   "cell_type": "code",
   "execution_count": 220,
   "metadata": {
    "collapsed": false
   },
   "outputs": [
    {
     "name": "stderr",
     "output_type": "stream",
     "text": [
      "c:\\Users\\wme329\\AppData\\Local\\Continuum\\Anaconda2\\lib\\site-packages\\sklearn\\utils\\validation.py:386: DeprecationWarning: Passing 1d arrays as data is deprecated in 0.17 and willraise ValueError in 0.19. Reshape your data either using X.reshape(-1, 1) if your data has a single feature or X.reshape(1, -1) if it contains a single sample.\n",
      "  DeprecationWarning)\n",
      "c:\\Users\\wme329\\AppData\\Local\\Continuum\\Anaconda2\\lib\\site-packages\\sklearn\\preprocessing\\imputation.py:344: VisibleDeprecationWarning: boolean index did not match indexed array along dimension 0; dimension is 3348 but corresponding boolean dimension is 2\n",
      "  missing = np.arange(X.shape[not self.axis])[invalid_mask]\n"
     ]
    },
    {
     "ename": "ValueError",
     "evalue": "operands could not be broadcast together with shape (2,) (3348,)",
     "output_type": "error",
     "traceback": [
      "\u001b[1;31m---------------------------------------------------------------------------\u001b[0m",
      "\u001b[1;31mValueError\u001b[0m                                Traceback (most recent call last)",
      "\u001b[1;32m<ipython-input-220-91d8c48fe134>\u001b[0m in \u001b[0;36m<module>\u001b[1;34m()\u001b[0m\n\u001b[1;32m----> 1\u001b[1;33m \u001b[0mA\u001b[0m \u001b[1;33m=\u001b[0m \u001b[0mimp\u001b[0m\u001b[1;33m.\u001b[0m\u001b[0mtransform\u001b[0m\u001b[1;33m(\u001b[0m\u001b[0mmovie_merge\u001b[0m\u001b[1;33m[\u001b[0m\u001b[1;34m\"production_budget\"\u001b[0m\u001b[1;33m]\u001b[0m\u001b[1;33m)\u001b[0m\u001b[1;33m\u001b[0m\u001b[0m\n\u001b[0m",
      "\u001b[1;32mc:\\Users\\wme329\\AppData\\Local\\Continuum\\Anaconda2\\lib\\site-packages\\sklearn\\preprocessing\\imputation.pyc\u001b[0m in \u001b[0;36mtransform\u001b[1;34m(self, X)\u001b[0m\n\u001b[0;32m    367\u001b[0m             \u001b[0mmask\u001b[0m \u001b[1;33m=\u001b[0m \u001b[0m_get_mask\u001b[0m\u001b[1;33m(\u001b[0m\u001b[0mX\u001b[0m\u001b[1;33m,\u001b[0m \u001b[0mself\u001b[0m\u001b[1;33m.\u001b[0m\u001b[0mmissing_values\u001b[0m\u001b[1;33m)\u001b[0m\u001b[1;33m\u001b[0m\u001b[0m\n\u001b[0;32m    368\u001b[0m             \u001b[0mn_missing\u001b[0m \u001b[1;33m=\u001b[0m \u001b[0mnp\u001b[0m\u001b[1;33m.\u001b[0m\u001b[0msum\u001b[0m\u001b[1;33m(\u001b[0m\u001b[0mmask\u001b[0m\u001b[1;33m,\u001b[0m \u001b[0maxis\u001b[0m\u001b[1;33m=\u001b[0m\u001b[0mself\u001b[0m\u001b[1;33m.\u001b[0m\u001b[0maxis\u001b[0m\u001b[1;33m)\u001b[0m\u001b[1;33m\u001b[0m\u001b[0m\n\u001b[1;32m--> 369\u001b[1;33m             \u001b[0mvalues\u001b[0m \u001b[1;33m=\u001b[0m \u001b[0mnp\u001b[0m\u001b[1;33m.\u001b[0m\u001b[0mrepeat\u001b[0m\u001b[1;33m(\u001b[0m\u001b[0mvalid_statistics\u001b[0m\u001b[1;33m,\u001b[0m \u001b[0mn_missing\u001b[0m\u001b[1;33m)\u001b[0m\u001b[1;33m\u001b[0m\u001b[0m\n\u001b[0m\u001b[0;32m    370\u001b[0m \u001b[1;33m\u001b[0m\u001b[0m\n\u001b[0;32m    371\u001b[0m             \u001b[1;32mif\u001b[0m \u001b[0mself\u001b[0m\u001b[1;33m.\u001b[0m\u001b[0maxis\u001b[0m \u001b[1;33m==\u001b[0m \u001b[1;36m0\u001b[0m\u001b[1;33m:\u001b[0m\u001b[1;33m\u001b[0m\u001b[0m\n",
      "\u001b[1;32mc:\\Users\\wme329\\AppData\\Local\\Continuum\\Anaconda2\\lib\\site-packages\\numpy\\core\\fromnumeric.pyc\u001b[0m in \u001b[0;36mrepeat\u001b[1;34m(a, repeats, axis)\u001b[0m\n\u001b[0;32m    395\u001b[0m     \u001b[1;32mexcept\u001b[0m \u001b[0mAttributeError\u001b[0m\u001b[1;33m:\u001b[0m\u001b[1;33m\u001b[0m\u001b[0m\n\u001b[0;32m    396\u001b[0m         \u001b[1;32mreturn\u001b[0m \u001b[0m_wrapit\u001b[0m\u001b[1;33m(\u001b[0m\u001b[0ma\u001b[0m\u001b[1;33m,\u001b[0m \u001b[1;34m'repeat'\u001b[0m\u001b[1;33m,\u001b[0m \u001b[0mrepeats\u001b[0m\u001b[1;33m,\u001b[0m \u001b[0maxis\u001b[0m\u001b[1;33m)\u001b[0m\u001b[1;33m\u001b[0m\u001b[0m\n\u001b[1;32m--> 397\u001b[1;33m     \u001b[1;32mreturn\u001b[0m \u001b[0mrepeat\u001b[0m\u001b[1;33m(\u001b[0m\u001b[0mrepeats\u001b[0m\u001b[1;33m,\u001b[0m \u001b[0maxis\u001b[0m\u001b[1;33m)\u001b[0m\u001b[1;33m\u001b[0m\u001b[0m\n\u001b[0m\u001b[0;32m    398\u001b[0m \u001b[1;33m\u001b[0m\u001b[0m\n\u001b[0;32m    399\u001b[0m \u001b[1;33m\u001b[0m\u001b[0m\n",
      "\u001b[1;31mValueError\u001b[0m: operands could not be broadcast together with shape (2,) (3348,)"
     ]
    }
   ],
   "source": [
    "A = imp.transform(movie_merge[\"production_budget\"])"
   ]
  },
  {
   "cell_type": "code",
   "execution_count": 217,
   "metadata": {
    "collapsed": false
   },
   "outputs": [
    {
     "data": {
      "text/plain": [
       "Imputer(axis=0, copy=True, missing_values='NaN', strategy='mean', verbose=0)"
      ]
     },
     "execution_count": 217,
     "metadata": {},
     "output_type": "execute_result"
    }
   ],
   "source": [
    "imp.fit([[1, 2], [np.nan, 3], [7, 6]])"
   ]
  },
  {
   "cell_type": "code",
   "execution_count": null,
   "metadata": {
    "collapsed": true
   },
   "outputs": [],
   "source": [
    "Imputer(axis=0, copy=True, missing_values='NaN', strategy='mean', verbose=0)"
   ]
  },
  {
   "cell_type": "code",
   "execution_count": null,
   "metadata": {
    "collapsed": true
   },
   "outputs": [],
   "source": [
    "X = [[np.nan, 2], [6, np.nan], [7, 6]]"
   ]
  },
  {
   "cell_type": "code",
   "execution_count": 218,
   "metadata": {
    "collapsed": false
   },
   "outputs": [
    {
     "name": "stdout",
     "output_type": "stream",
     "text": [
      "[[ 4.          2.        ]\n",
      " [ 6.          3.66666667]\n",
      " [ 7.          6.        ]]\n"
     ]
    }
   ],
   "source": [
    "print(imp.transform(X))  "
   ]
  },
  {
   "cell_type": "code",
   "execution_count": 219,
   "metadata": {
    "collapsed": false
   },
   "outputs": [
    {
     "data": {
      "text/html": [
       "<div>\n",
       "<table border=\"1\" class=\"dataframe\">\n",
       "  <thead>\n",
       "    <tr style=\"text-align: right;\">\n",
       "      <th></th>\n",
       "      <th>alt_title</th>\n",
       "      <th>director_x</th>\n",
       "      <th>domestic_gross</th>\n",
       "      <th>mojo_slug</th>\n",
       "      <th>opening_per_theater</th>\n",
       "      <th>opening_weekend_take</th>\n",
       "      <th>production_budget</th>\n",
       "      <th>release_date_limited</th>\n",
       "      <th>release_date_wide</th>\n",
       "      <th>title_x</th>\n",
       "      <th>...</th>\n",
       "      <th>rating</th>\n",
       "      <th>release_date</th>\n",
       "      <th>runtime_minutes</th>\n",
       "      <th>studio</th>\n",
       "      <th>title_y</th>\n",
       "      <th>unable to retrieve</th>\n",
       "      <th>user_score</th>\n",
       "      <th>title_Upper_y</th>\n",
       "      <th>director_upper_y</th>\n",
       "      <th>director_new_y</th>\n",
       "    </tr>\n",
       "  </thead>\n",
       "  <tbody>\n",
       "    <tr>\n",
       "      <th>0</th>\n",
       "      <td>10,000 B.C. (2008)</td>\n",
       "      <td>Roland Emmerich</td>\n",
       "      <td>94784201.0</td>\n",
       "      <td>10000bc</td>\n",
       "      <td>10518.0</td>\n",
       "      <td>35867488.0</td>\n",
       "      <td>105000000.0</td>\n",
       "      <td>None</td>\n",
       "      <td>2008-03-07</td>\n",
       "      <td>10,000 B.C.</td>\n",
       "      <td>...</td>\n",
       "      <td>PG-13</td>\n",
       "      <td>2008-03-07</td>\n",
       "      <td>109.0</td>\n",
       "      <td>Warner Bros. Pictures</td>\n",
       "      <td>10,000 BC</td>\n",
       "      <td>NaN</td>\n",
       "      <td>4.6</td>\n",
       "      <td>10,000 BC</td>\n",
       "      <td>ROLAND EMMERICH</td>\n",
       "      <td>ROLANDEMMERICH</td>\n",
       "    </tr>\n",
       "    <tr>\n",
       "      <th>1</th>\n",
       "      <td>102 Dalmatians (2000)</td>\n",
       "      <td>None</td>\n",
       "      <td>66957026.0</td>\n",
       "      <td>102dalmatians</td>\n",
       "      <td>7353.0</td>\n",
       "      <td>19883351.0</td>\n",
       "      <td>85000000.0</td>\n",
       "      <td>None</td>\n",
       "      <td>2000-11-22</td>\n",
       "      <td>102 Dalmatians</td>\n",
       "      <td>...</td>\n",
       "      <td>G</td>\n",
       "      <td>2000-11-22</td>\n",
       "      <td>100.0</td>\n",
       "      <td>Buena Vista Pictures</td>\n",
       "      <td>102 Dalmatians</td>\n",
       "      <td>NaN</td>\n",
       "      <td>5.3</td>\n",
       "      <td>102 DALMATIANS</td>\n",
       "      <td>KEVIN LIMA</td>\n",
       "      <td>KEVINLIMA</td>\n",
       "    </tr>\n",
       "    <tr>\n",
       "      <th>2</th>\n",
       "      <td>10 Things I Hate About You (1999)</td>\n",
       "      <td>None</td>\n",
       "      <td>38178166.0</td>\n",
       "      <td>10thingsihateaboutyou</td>\n",
       "      <td>3668.0</td>\n",
       "      <td>8330681.0</td>\n",
       "      <td>30000000.0</td>\n",
       "      <td>None</td>\n",
       "      <td>1999-03-31</td>\n",
       "      <td>10 Things I Hate About You</td>\n",
       "      <td>...</td>\n",
       "      <td>PG-13</td>\n",
       "      <td>1999-03-31</td>\n",
       "      <td>97.0</td>\n",
       "      <td>Buena Vista Pictures</td>\n",
       "      <td>10 Things I Hate About You</td>\n",
       "      <td>NaN</td>\n",
       "      <td>7</td>\n",
       "      <td>10 THINGS I HATE ABOUT YOU</td>\n",
       "      <td>GIL JUNGER</td>\n",
       "      <td>GILJUNGER</td>\n",
       "    </tr>\n",
       "    <tr>\n",
       "      <th>3</th>\n",
       "      <td>10 Years (2012)</td>\n",
       "      <td>Jamie Linden</td>\n",
       "      <td>203373.0</td>\n",
       "      <td>10years</td>\n",
       "      <td>7569.0</td>\n",
       "      <td>22707.0</td>\n",
       "      <td>NaN</td>\n",
       "      <td>None</td>\n",
       "      <td>2012-09-14</td>\n",
       "      <td>10 Years</td>\n",
       "      <td>...</td>\n",
       "      <td>R</td>\n",
       "      <td>2012-09-14</td>\n",
       "      <td>100.0</td>\n",
       "      <td>Anchor Bay Entertainment</td>\n",
       "      <td>10 Years</td>\n",
       "      <td>NaN</td>\n",
       "      <td>6.6</td>\n",
       "      <td>10 YEARS</td>\n",
       "      <td>JAMIE LINDEN</td>\n",
       "      <td>JAMIELINDEN</td>\n",
       "    </tr>\n",
       "    <tr>\n",
       "      <th>4</th>\n",
       "      <td>11 Flowers (2013)</td>\n",
       "      <td>None</td>\n",
       "      <td>9213.0</td>\n",
       "      <td>11flowers</td>\n",
       "      <td>1758.0</td>\n",
       "      <td>3516.0</td>\n",
       "      <td>NaN</td>\n",
       "      <td>None</td>\n",
       "      <td>2013-02-22</td>\n",
       "      <td>11 Flowers</td>\n",
       "      <td>...</td>\n",
       "      <td>Not Rated</td>\n",
       "      <td>2013-02-22</td>\n",
       "      <td>110.0</td>\n",
       "      <td>First Run Features</td>\n",
       "      <td>11 Flowers</td>\n",
       "      <td>NaN</td>\n",
       "      <td>tbd</td>\n",
       "      <td>11 FLOWERS</td>\n",
       "      <td>XIAOSHUAI WANG</td>\n",
       "      <td>XIAOSHUAIWANG</td>\n",
       "    </tr>\n",
       "  </tbody>\n",
       "</table>\n",
       "<p>5 rows × 35 columns</p>\n",
       "</div>"
      ],
      "text/plain": [
       "                           alt_title       director_x  domestic_gross  \\\n",
       "0                 10,000 B.C. (2008)  Roland Emmerich      94784201.0   \n",
       "1              102 Dalmatians (2000)             None      66957026.0   \n",
       "2  10 Things I Hate About You (1999)             None      38178166.0   \n",
       "3                    10 Years (2012)     Jamie Linden        203373.0   \n",
       "4                  11 Flowers (2013)             None          9213.0   \n",
       "\n",
       "               mojo_slug  opening_per_theater  opening_weekend_take  \\\n",
       "0                10000bc              10518.0            35867488.0   \n",
       "1          102dalmatians               7353.0            19883351.0   \n",
       "2  10thingsihateaboutyou               3668.0             8330681.0   \n",
       "3                10years               7569.0               22707.0   \n",
       "4              11flowers               1758.0                3516.0   \n",
       "\n",
       "   production_budget release_date_limited release_date_wide  \\\n",
       "0        105000000.0                 None        2008-03-07   \n",
       "1         85000000.0                 None        2000-11-22   \n",
       "2         30000000.0                 None        1999-03-31   \n",
       "3                NaN                 None        2012-09-14   \n",
       "4                NaN                 None        2013-02-22   \n",
       "\n",
       "                      title_x       ...           rating  release_date  \\\n",
       "0                 10,000 B.C.       ...            PG-13    2008-03-07   \n",
       "1             102 Dalmatians        ...                G    2000-11-22   \n",
       "2  10 Things I Hate About You       ...            PG-13    1999-03-31   \n",
       "3                    10 Years       ...                R    2012-09-14   \n",
       "4                 11 Flowers        ...        Not Rated    2013-02-22   \n",
       "\n",
       "   runtime_minutes                    studio                     title_y  \\\n",
       "0            109.0     Warner Bros. Pictures                   10,000 BC   \n",
       "1            100.0      Buena Vista Pictures              102 Dalmatians   \n",
       "2             97.0      Buena Vista Pictures  10 Things I Hate About You   \n",
       "3            100.0  Anchor Bay Entertainment                    10 Years   \n",
       "4            110.0        First Run Features                  11 Flowers   \n",
       "\n",
       "  unable to retrieve user_score               title_Upper_y director_upper_y  \\\n",
       "0                NaN        4.6                   10,000 BC  ROLAND EMMERICH   \n",
       "1                NaN        5.3              102 DALMATIANS       KEVIN LIMA   \n",
       "2                NaN          7  10 THINGS I HATE ABOUT YOU       GIL JUNGER   \n",
       "3                NaN        6.6                    10 YEARS     JAMIE LINDEN   \n",
       "4                NaN        tbd                  11 FLOWERS   XIAOSHUAI WANG   \n",
       "\n",
       "   director_new_y  \n",
       "0  ROLANDEMMERICH  \n",
       "1       KEVINLIMA  \n",
       "2       GILJUNGER  \n",
       "3     JAMIELINDEN  \n",
       "4   XIAOSHUAIWANG  \n",
       "\n",
       "[5 rows x 35 columns]"
      ]
     },
     "execution_count": 219,
     "metadata": {},
     "output_type": "execute_result"
    }
   ],
   "source": [
    "movie_merge.head()"
   ]
  }
 ],
 "metadata": {
  "kernelspec": {
   "display_name": "Python 2",
   "language": "python",
   "name": "python2"
  },
  "language_info": {
   "codemirror_mode": {
    "name": "ipython",
    "version": 2
   },
   "file_extension": ".py",
   "mimetype": "text/x-python",
   "name": "python",
   "nbconvert_exporter": "python",
   "pygments_lexer": "ipython2",
   "version": "2.7.11"
  }
 },
 "nbformat": 4,
 "nbformat_minor": 0
}
